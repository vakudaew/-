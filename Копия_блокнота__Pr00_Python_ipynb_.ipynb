{
  "nbformat": 4,
  "nbformat_minor": 0,
  "metadata": {
    "colab": {
      "name": "Копия блокнота \"Pr00_Python.ipynb\"",
      "provenance": [],
      "collapsed_sections": [],
      "toc_visible": true
    },
    "kernelspec": {
      "display_name": "Python 3",
      "name": "python3"
    }
  },
  "cells": [
    {
      "cell_type": "markdown",
      "metadata": {
        "id": "Qesf_YoJGLD4"
      },
      "source": [
        "# Знакомимся с основами Python"
      ]
    },
    {
      "cell_type": "markdown",
      "metadata": {
        "id": "kbkDnoj2RgxY"
      },
      "source": [
        "# Jupyter и управление"
      ]
    },
    {
      "cell_type": "markdown",
      "metadata": {
        "id": "d6k0za1RHcXo"
      },
      "source": [
        "В данной практике мы познакомимся с основами языка программирования Python при работе в среде Jupyter. Для начала пройдемся по основным аспектам работы в данной среде:\n",
        "- `Инструменты -> Сочетания клавиш (Ctrl+M H)` - просмотр и настройка основных сочетаний клавиш;\n",
        "- `Shift + Enter` - выполнить ячейку и перейти к следующей;\n",
        "- `Ctrl + Space` - вывести подсказки автодополнения (на основе функций модулей, ваших функций из выполненных ячеек и переменных из выполненных ячеек);\n",
        "\n",
        "Вся среда разработки разбита на **ячейки**, которые содержат код. Так как язык Python интерпретируемый, то все команды в ячейке передаются интерпретатору по очереди. Данное правило работает даже для случая, если ячейки выполняются не последовательно. "
      ]
    },
    {
      "cell_type": "markdown",
      "metadata": {
        "id": "V9zCGtuoKksp"
      },
      "source": [
        "Начнем с простого Hello World. Выполните ячейку и вы увидите результат ее выполнения ниже."
      ]
    },
    {
      "cell_type": "code",
      "metadata": {
        "colab": {
          "base_uri": "https://localhost:8080/"
        },
        "id": "8Cv-XnvPGRvx",
        "outputId": "123889a1-5067-4528-de01-63650e6ba23e"
      },
      "source": [
        "print('Hello World!')"
      ],
      "execution_count": null,
      "outputs": [
        {
          "output_type": "stream",
          "text": [
            "Hello World!\n"
          ],
          "name": "stdout"
        }
      ]
    },
    {
      "cell_type": "markdown",
      "metadata": {
        "id": "M4QnJ_3aK27F"
      },
      "source": [
        "Часто бывает нужно посмотреть краткую информацию о той или иной функции, среда jupyter также поддерживает краткую справку по функциям, но при этом полное описание с примерами чаще всего можно найти на официальном сайте фреймворка, к которому относится функция.\n",
        "\n",
        "Давайте выведем информацию о функции, которую используем. После выполнения следующей ячейки откроется окно справки, в котором можно прочитать базовую информацию и аргументы функции."
      ]
    },
    {
      "cell_type": "code",
      "metadata": {
        "id": "7SPUO6tTK0XN"
      },
      "source": [
        "print?"
      ],
      "execution_count": null,
      "outputs": []
    },
    {
      "cell_type": "markdown",
      "metadata": {
        "id": "TkZxK-67Lihe"
      },
      "source": [
        "Отлично! Мы не только написали свой первый Hello World на Python, но и узнали краткую информацию о функции для вывода в стандартный вывод.\n",
        "\n",
        "> В Google Colab при наведении на функцию или переменную появляется также небольшая справка\n",
        "\n",
        "Самое время перейти к вопросам **управления пакетами**. В языке Python дополнительные модули (библиотеки) поставляются в виде модулей, которые можно установить из стандартного репозитория PyPI (https://pypi.org/). Для того, чтобы в среде jupyter установить пакет для интерпретатора используется волшебная команда с помощью знака \"!\", который предполагает выполнения команд вне синтаксиса языка Python на языке Shell (консольные команды)."
      ]
    },
    {
      "cell_type": "markdown",
      "metadata": {
        "id": "joQrUBWgOrCr"
      },
      "source": [
        "Пора установить наш первый необходимый пакет математических операций numpy."
      ]
    },
    {
      "cell_type": "code",
      "metadata": {
        "colab": {
          "base_uri": "https://localhost:8080/"
        },
        "id": "QgEFGLjsOw2I",
        "outputId": "548f9b11-5cdc-4c57-9a35-05ca619eb0eb"
      },
      "source": [
        "!pip install numpy==1.18.5"
      ],
      "execution_count": null,
      "outputs": [
        {
          "output_type": "stream",
          "text": [
            "Requirement already satisfied: numpy==1.18.5 in /usr/local/lib/python3.6/dist-packages (1.18.5)\n"
          ],
          "name": "stdout"
        }
      ]
    },
    {
      "cell_type": "markdown",
      "metadata": {
        "id": "TquNzvi1PLss"
      },
      "source": [
        "Команда установки пакета не представляет сложностей, но при этом **всегда** рекомендуется устанавливать конкретную версию пакетов, чтобы не попасть в ловушку версий, когда разработчики пакета изменили определенный функционал, а мы об этом не узнали и программа перестает работать.\n",
        "\n",
        "Чтобы понять, какие версии есть, можно зайти на сайт пакета в репозитории PyPI: https://pypi.org/project/numpy/.\n",
        "\n",
        "<details>\n",
        "    <summary>Как работать с версиями? [Нажми на меня]</summary>\n",
        "\n",
        "В практике работы с Python в папке с проектом создается файл requirements.txt, в который прописывают имена пакета и версии требуемых для проекта пакетов:\n",
        "```\n",
        "numpy==1.19.0\n",
        "pandas==1.0.3\n",
        "```\n",
        "Так для начала работы с проектом легко установить требуемые пакеты командой `pip install -r requirements`.\n",
        "\n",
        "В результате такой файл является источником информации о том, какие пакеты используются в проекте.\n",
        "\n",
        "Если вы начинаете новый проект, то обязательно создайте такой файл и записывайте в него все пакеты и версии, которые используете!\n",
        "</details>"
      ]
    },
    {
      "cell_type": "markdown",
      "metadata": {
        "id": "NdHfsit3PenE"
      },
      "source": [
        "После того, как мы установили пакет, давайте попробуем его подключить в нашу среду, чтобы затем использовать."
      ]
    },
    {
      "cell_type": "code",
      "metadata": {
        "id": "7fQou8iYLhrh"
      },
      "source": [
        "import numpy as np"
      ],
      "execution_count": null,
      "outputs": []
    },
    {
      "cell_type": "markdown",
      "metadata": {
        "id": "93f6dx9tPoZJ"
      },
      "source": [
        "В данной команде мы познакомились с двумя ключевыми словами Python: `import` и `as`. Первое слово подключает пакет к программе. Второе позволяет переименовать название модуля, чтобы использовать общепринятое сокращение и набирать меньше текста. Так, вместо команды `numpy.linspace()` достаточно написать `np.linspace()`, при этом смысл команды не потерялся. Кстати, что это за команда такая? "
      ]
    },
    {
      "cell_type": "markdown",
      "metadata": {
        "id": "N1IG94HncXZl"
      },
      "source": [
        "## Задание\n",
        "\n",
        "Выведите справку по команде `numpy.linspace()` в ячейке ниже.\n",
        "\n",
        "> Не пугайтесь символа \"#\" - это стандартный способ задания однострочного комментария, они игнорируются интерпретатором."
      ]
    },
    {
      "cell_type": "code",
      "metadata": {
        "colab": {
          "base_uri": "https://localhost:8080/"
        },
        "id": "BNxEH5DWHYus",
        "outputId": "caa1e167-17f9-4e5a-ea0b-be084b2a8dc4"
      },
      "source": [
        "help(np.linspace)"
      ],
      "execution_count": null,
      "outputs": [
        {
          "output_type": "stream",
          "text": [
            "Help on function linspace in module numpy:\n",
            "\n",
            "linspace(start, stop, num=50, endpoint=True, retstep=False, dtype=None, axis=0)\n",
            "    Return evenly spaced numbers over a specified interval.\n",
            "    \n",
            "    Returns `num` evenly spaced samples, calculated over the\n",
            "    interval [`start`, `stop`].\n",
            "    \n",
            "    The endpoint of the interval can optionally be excluded.\n",
            "    \n",
            "    .. versionchanged:: 1.16.0\n",
            "        Non-scalar `start` and `stop` are now supported.\n",
            "    \n",
            "    Parameters\n",
            "    ----------\n",
            "    start : array_like\n",
            "        The starting value of the sequence.\n",
            "    stop : array_like\n",
            "        The end value of the sequence, unless `endpoint` is set to False.\n",
            "        In that case, the sequence consists of all but the last of ``num + 1``\n",
            "        evenly spaced samples, so that `stop` is excluded.  Note that the step\n",
            "        size changes when `endpoint` is False.\n",
            "    num : int, optional\n",
            "        Number of samples to generate. Default is 50. Must be non-negative.\n",
            "    endpoint : bool, optional\n",
            "        If True, `stop` is the last sample. Otherwise, it is not included.\n",
            "        Default is True.\n",
            "    retstep : bool, optional\n",
            "        If True, return (`samples`, `step`), where `step` is the spacing\n",
            "        between samples.\n",
            "    dtype : dtype, optional\n",
            "        The type of the output array.  If `dtype` is not given, infer the data\n",
            "        type from the other input arguments.\n",
            "    \n",
            "        .. versionadded:: 1.9.0\n",
            "    \n",
            "    axis : int, optional\n",
            "        The axis in the result to store the samples.  Relevant only if start\n",
            "        or stop are array-like.  By default (0), the samples will be along a\n",
            "        new axis inserted at the beginning. Use -1 to get an axis at the end.\n",
            "    \n",
            "        .. versionadded:: 1.16.0\n",
            "    \n",
            "    Returns\n",
            "    -------\n",
            "    samples : ndarray\n",
            "        There are `num` equally spaced samples in the closed interval\n",
            "        ``[start, stop]`` or the half-open interval ``[start, stop)``\n",
            "        (depending on whether `endpoint` is True or False).\n",
            "    step : float, optional\n",
            "        Only returned if `retstep` is True\n",
            "    \n",
            "        Size of spacing between samples.\n",
            "    \n",
            "    \n",
            "    See Also\n",
            "    --------\n",
            "    arange : Similar to `linspace`, but uses a step size (instead of the\n",
            "             number of samples).\n",
            "    geomspace : Similar to `linspace`, but with numbers spaced evenly on a log\n",
            "                scale (a geometric progression).\n",
            "    logspace : Similar to `geomspace`, but with the end points specified as\n",
            "               logarithms.\n",
            "    \n",
            "    Examples\n",
            "    --------\n",
            "    >>> np.linspace(2.0, 3.0, num=5)\n",
            "    array([2.  , 2.25, 2.5 , 2.75, 3.  ])\n",
            "    >>> np.linspace(2.0, 3.0, num=5, endpoint=False)\n",
            "    array([2. ,  2.2,  2.4,  2.6,  2.8])\n",
            "    >>> np.linspace(2.0, 3.0, num=5, retstep=True)\n",
            "    (array([2.  ,  2.25,  2.5 ,  2.75,  3.  ]), 0.25)\n",
            "    \n",
            "    Graphical illustration:\n",
            "    \n",
            "    >>> import matplotlib.pyplot as plt\n",
            "    >>> N = 8\n",
            "    >>> y = np.zeros(N)\n",
            "    >>> x1 = np.linspace(0, 10, N, endpoint=True)\n",
            "    >>> x2 = np.linspace(0, 10, N, endpoint=False)\n",
            "    >>> plt.plot(x1, y, 'o')\n",
            "    [<matplotlib.lines.Line2D object at 0x...>]\n",
            "    >>> plt.plot(x2, y + 0.5, 'o')\n",
            "    [<matplotlib.lines.Line2D object at 0x...>]\n",
            "    >>> plt.ylim([-0.5, 1])\n",
            "    (-0.5, 1)\n",
            "    >>> plt.show()\n",
            "\n"
          ],
          "name": "stdout"
        }
      ]
    },
    {
      "cell_type": "markdown",
      "metadata": {
        "id": "U-CnHXZSZIRN"
      },
      "source": [
        "# Немного рекомендаций"
      ]
    },
    {
      "cell_type": "markdown",
      "metadata": {
        "id": "-HP9Nj4aZRen"
      },
      "source": [
        "Работа с ноутбуками отличается от разработки через Python скрипты. В этой секции мы обсудим некоторые базовые правила, которых следует придерживаться, чтобы не создавать сложностей при работе с таким форматом.\n",
        "\n",
        "* В ноутбуках можно выполнять ячейки в любом порядке, но это чаще всего приводит к ошибкам, которые трудно разобрать! Пишите код и организуйте выполнение в ячейках **последовательно**.\n",
        "* Если надо поменять код ячейки и перезапустить ее - убедитесь, что вы не забыли ни про какие переменные. Простая проверка - перезапустить ядро (Инструменты -> Перезапустить среду управления) и выполнить все ячейки до измененной.\n",
        "\n",
        "<details>\n",
        "    <summary>Зачем помнить о переменных? [Нажми на меня]</summary>\n",
        "\n",
        "Например, вы выполните ячейку с кодом `a = 3`, а потом ее же перепишите (удалите код ячейки и замените) на `b = a + 2`, то вы получите переменную `b` со значение 5, но вот только такой код не будет рабочим, так как при перезапуске ядра определения переменной не будет существовать. Вся идея в модели исполнения - язык Python интерпретируемый, так что когда вы ему передаете команду `a = 3`, то переменная создастся и останется в памяти пока работает ядро, но рассчитывать на такое - плохо! Надо об этом помнить, но применять это не стоит, лучше явно определять переменные и затем их использовать.\n",
        "</details>\n",
        "\n",
        "* Комментарии! Ноутбуки совмещают два прекрасных компонента - ячейки с кодом, который можно выполнить, и ячейки с текстом, которые поддерживают яык разметки Markdown. Первые дают возможность писать код, а вторые - делать красивые описания. Теперь не только однострочные комментарии в коде доступны, а еще и красивый текст, формулы и картинки!\n"
      ]
    },
    {
      "cell_type": "markdown",
      "metadata": {
        "id": "HIxyI13kQrk5"
      },
      "source": [
        "Отлично, значит теперь, мы овладели способностью управлять пакетами, а значит все ранее разработанные модули и функции нам подвластны! Но ведь на то и нужны разработчики, чтобы разрабатывать новое или делать что-то лучше! Сегодня предлагаю заняться первым. Перейдем к основным конструкциям и синтаксису языка Python."
      ]
    },
    {
      "cell_type": "markdown",
      "metadata": {
        "id": "i5EqcPFlResP"
      },
      "source": [
        "# Типы данных"
      ]
    },
    {
      "cell_type": "markdown",
      "metadata": {
        "id": "kPN5r_z7RkfY"
      },
      "source": [
        "Какой код обойдется без переменных? Всегда должны быть корзинки, которые хранят состояния, чтобы затем можно было использовать. Бегло пройдемся по порядку. Более расширенную информацию вы найдете на оф.сайте: https://docs.python.org/3.7/library/stdtypes.html."
      ]
    },
    {
      "cell_type": "markdown",
      "metadata": {
        "id": "iN0g0pfuW5Zg"
      },
      "source": [
        "## Int, Float, Boolean"
      ]
    },
    {
      "cell_type": "code",
      "metadata": {
        "id": "GD8uQZ8YQdJG"
      },
      "source": [
        "var_int = 3\n",
        "var_float = 3.0\n",
        "var_boolean = True"
      ],
      "execution_count": null,
      "outputs": []
    },
    {
      "cell_type": "markdown",
      "metadata": {
        "id": "GqpJV4r7Tdah"
      },
      "source": [
        "Целочисленные, с плавающей точкой и булевы значения, классика. Если вы знакомы с любым другим языком, например, С, С++, Java, то вы точно слышали про данные типы. "
      ]
    },
    {
      "cell_type": "markdown",
      "metadata": {
        "id": "dn6bvtGoW_wK"
      },
      "source": [
        "## Complex"
      ]
    },
    {
      "cell_type": "code",
      "metadata": {
        "id": "QKdBfJ_0TR7E"
      },
      "source": [
        "var_complex = 3+2j"
      ],
      "execution_count": null,
      "outputs": []
    },
    {
      "cell_type": "markdown",
      "metadata": {
        "id": "Ej_QVagDT6N-"
      },
      "source": [
        "Комплексные числа, уже интереснее. На них распространяются все математические правила, вы даже можете проверить это, создав новую ячейку и проведя интересующие операции."
      ]
    },
    {
      "cell_type": "markdown",
      "metadata": {
        "id": "vBeoJ60hXCJj"
      },
      "source": [
        "## String"
      ]
    },
    {
      "cell_type": "code",
      "metadata": {
        "id": "8y7n80P3TTBy"
      },
      "source": [
        "var_string = 'hello text'\n",
        "var_another_string = \"me too!\"\n",
        "var_multiline_string = '''\n",
        "    big\n",
        "    multiline\n",
        "    string\n",
        "'''"
      ],
      "execution_count": null,
      "outputs": []
    },
    {
      "cell_type": "markdown",
      "metadata": {
        "id": "1etXpMQmUHsB"
      },
      "source": [
        "Различные способы задания строковых значений, пользуйтесь на здоровье."
      ]
    },
    {
      "cell_type": "markdown",
      "metadata": {
        "id": "bbHtfu30XD07"
      },
      "source": [
        "## None"
      ]
    },
    {
      "cell_type": "code",
      "metadata": {
        "id": "8zcRvMULTVID"
      },
      "source": [
        "var_none = None"
      ],
      "execution_count": null,
      "outputs": []
    },
    {
      "cell_type": "markdown",
      "metadata": {
        "id": "Z-IOAabvUOTu"
      },
      "source": [
        "В языке Python также присутствует специальный тип None, он обособлен от остальных, но пользуется крайне высокой популярностью."
      ]
    },
    {
      "cell_type": "markdown",
      "metadata": {
        "id": "YnKYFUFmUY7K"
      },
      "source": [
        "Теперь коснемся контейнерных типов."
      ]
    },
    {
      "cell_type": "markdown",
      "metadata": {
        "id": "-jaCmvHQXFiN"
      },
      "source": [
        "## List"
      ]
    },
    {
      "cell_type": "code",
      "metadata": {
        "id": "twreijv7TZKt"
      },
      "source": [
        "var_list = [1, '111']"
      ],
      "execution_count": null,
      "outputs": []
    },
    {
      "cell_type": "markdown",
      "metadata": {
        "id": "eIZv__ejVArI"
      },
      "source": [
        "Список, базовый контейнер для хранения набора данных. Не ограничен конкретным типом. Поддерживает динамическое расширение и удаление элементов. Как же обратиться к элементу списка?"
      ]
    },
    {
      "cell_type": "code",
      "metadata": {
        "colab": {
          "base_uri": "https://localhost:8080/",
          "height": 35
        },
        "id": "WRGZ8YJoVq9x",
        "outputId": "cae28461-dcfc-4a97-de67-81847e7e802c"
      },
      "source": [
        "var_list[1]"
      ],
      "execution_count": null,
      "outputs": [
        {
          "output_type": "execute_result",
          "data": {
            "application/vnd.google.colaboratory.intrinsic+json": {
              "type": "string"
            },
            "text/plain": [
              "'111'"
            ]
          },
          "metadata": {
            "tags": []
          },
          "execution_count": 13
        }
      ]
    },
    {
      "cell_type": "markdown",
      "metadata": {
        "id": "rTXPAizHVvuo"
      },
      "source": [
        "Напомним, что **индексация начинается с 0**.\n",
        "\n",
        "Попробуем изменить элемент и вывести список."
      ]
    },
    {
      "cell_type": "code",
      "metadata": {
        "colab": {
          "base_uri": "https://localhost:8080/"
        },
        "id": "X10nto8sV6RO",
        "outputId": "89758899-da2d-41d9-eb71-5e99d994378e"
      },
      "source": [
        "var_list[0] = 501\n",
        "var_list"
      ],
      "execution_count": null,
      "outputs": [
        {
          "output_type": "execute_result",
          "data": {
            "text/plain": [
              "[501, '111']"
            ]
          },
          "metadata": {
            "tags": []
          },
          "execution_count": 14
        }
      ]
    },
    {
      "cell_type": "markdown",
      "metadata": {
        "id": "3o2pxOb3V99r"
      },
      "source": [
        "> Обратите внимание, чтобы просмотреть значение переменной достаточно написать ее имя.\n",
        "\n",
        "Как же получить индекс элемента по значению?"
      ]
    },
    {
      "cell_type": "code",
      "metadata": {
        "colab": {
          "base_uri": "https://localhost:8080/"
        },
        "id": "DNpGWqoIWdcm",
        "outputId": "d56e109d-19ae-40e0-9ec7-eeaaf49043e8"
      },
      "source": [
        "var_list.index('111')"
      ],
      "execution_count": null,
      "outputs": [
        {
          "output_type": "execute_result",
          "data": {
            "text/plain": [
              "1"
            ]
          },
          "metadata": {
            "tags": []
          },
          "execution_count": 15
        }
      ]
    },
    {
      "cell_type": "markdown",
      "metadata": {
        "id": "KuOI-DBecMsX"
      },
      "source": [
        "### Задание\n",
        "\n",
        "Посмотрите, что будет, если записать по индексу [1] любое значение."
      ]
    },
    {
      "cell_type": "markdown",
      "metadata": {
        "id": "eJs0Y-e0WgiZ"
      },
      "source": [
        "Как видно, функция `index()` вызывается от самого списка (то есть это функция списка) и выводит индекс элемента, если такое значение есть. Теперь проверьте, что же будет, если вызвать `index()` по значению, которого нет?"
      ]
    },
    {
      "cell_type": "code",
      "metadata": {
        "colab": {
          "base_uri": "https://localhost:8080/",
          "height": 214
        },
        "id": "9f_4onVKW1Yp",
        "outputId": "95ff97e6-3f07-4c0f-bb55-0989ba8d1379"
      },
      "source": [
        "var_list[1]=5\n",
        "print(var_list)\n",
        "var_list.index(1)"
      ],
      "execution_count": null,
      "outputs": [
        {
          "output_type": "stream",
          "text": [
            "[501, 5]\n"
          ],
          "name": "stdout"
        },
        {
          "output_type": "error",
          "ename": "ValueError",
          "evalue": "ignored",
          "traceback": [
            "\u001b[0;31m---------------------------------------------------------------------------\u001b[0m",
            "\u001b[0;31mValueError\u001b[0m                                Traceback (most recent call last)",
            "\u001b[0;32m<ipython-input-16-f467c818871e>\u001b[0m in \u001b[0;36m<module>\u001b[0;34m()\u001b[0m\n\u001b[1;32m      1\u001b[0m \u001b[0mvar_list\u001b[0m\u001b[0;34m[\u001b[0m\u001b[0;36m1\u001b[0m\u001b[0;34m]\u001b[0m\u001b[0;34m=\u001b[0m\u001b[0;36m5\u001b[0m\u001b[0;34m\u001b[0m\u001b[0;34m\u001b[0m\u001b[0m\n\u001b[1;32m      2\u001b[0m \u001b[0mprint\u001b[0m\u001b[0;34m(\u001b[0m\u001b[0mvar_list\u001b[0m\u001b[0;34m)\u001b[0m\u001b[0;34m\u001b[0m\u001b[0;34m\u001b[0m\u001b[0m\n\u001b[0;32m----> 3\u001b[0;31m \u001b[0mvar_list\u001b[0m\u001b[0;34m.\u001b[0m\u001b[0mindex\u001b[0m\u001b[0;34m(\u001b[0m\u001b[0;36m1\u001b[0m\u001b[0;34m)\u001b[0m\u001b[0;34m\u001b[0m\u001b[0;34m\u001b[0m\u001b[0m\n\u001b[0m",
            "\u001b[0;31mValueError\u001b[0m: 1 is not in list"
          ]
        }
      ]
    },
    {
      "cell_type": "markdown",
      "metadata": {
        "id": "kUthmzbtXNuB"
      },
      "source": [
        "Отлично, вот конкретно это *значение* он возвращает, если элемента нет. Осталось узнать, как добавить элемент в список. Воспользуйтесь функцией `append()` списка, чтобы добавить элемент в список и выведите весь список."
      ]
    },
    {
      "cell_type": "code",
      "metadata": {
        "colab": {
          "base_uri": "https://localhost:8080/"
        },
        "id": "5e79CkE8XlLt",
        "outputId": "3b06e482-8843-4767-ac5a-078e0be2c52e"
      },
      "source": [
        "var_list.append(3)\n",
        "print(var_list)"
      ],
      "execution_count": null,
      "outputs": [
        {
          "output_type": "stream",
          "text": [
            "[501, 5, 3]\n"
          ],
          "name": "stdout"
        }
      ]
    },
    {
      "cell_type": "markdown",
      "metadata": {
        "id": "9mIXJAYqXHJt"
      },
      "source": [
        "## Tuple"
      ]
    },
    {
      "cell_type": "code",
      "metadata": {
        "id": "4OYDtdkhTZyx"
      },
      "source": [
        "var_tuple = (1, '111', 'hey')"
      ],
      "execution_count": null,
      "outputs": []
    },
    {
      "cell_type": "markdown",
      "metadata": {
        "id": "psnLbBZzVUuW"
      },
      "source": [
        "Кортеж, вроде похож на список, но вот его главное отличие в том, что он неизменяет (Immutable).\n",
        "\n",
        "> Подробнее о mutable/immutable почитайте здесь: https://realpython.com/courses/immutability-python/\n"
      ]
    },
    {
      "cell_type": "markdown",
      "metadata": {
        "id": "bdjlDJumcJ-d"
      },
      "source": [
        "### Задание\n",
        "\n",
        "Посмотрите, что будет, если записать по индексу [1] любое значение."
      ]
    },
    {
      "cell_type": "code",
      "metadata": {
        "colab": {
          "base_uri": "https://localhost:8080/",
          "height": 163
        },
        "id": "V67Sbb_IYiNb",
        "outputId": "6a82ba66-6a2c-4e9e-a0c7-a5317042eeee"
      },
      "source": [
        "var_tuple[1] = 3"
      ],
      "execution_count": null,
      "outputs": [
        {
          "output_type": "error",
          "ename": "TypeError",
          "evalue": "ignored",
          "traceback": [
            "\u001b[0;31m---------------------------------------------------------------------------\u001b[0m",
            "\u001b[0;31mTypeError\u001b[0m                                 Traceback (most recent call last)",
            "\u001b[0;32m<ipython-input-19-d07249c1c077>\u001b[0m in \u001b[0;36m<module>\u001b[0;34m()\u001b[0m\n\u001b[0;32m----> 1\u001b[0;31m \u001b[0mvar_tuple\u001b[0m\u001b[0;34m[\u001b[0m\u001b[0;36m1\u001b[0m\u001b[0;34m]\u001b[0m \u001b[0;34m=\u001b[0m \u001b[0;36m3\u001b[0m\u001b[0;34m\u001b[0m\u001b[0;34m\u001b[0m\u001b[0m\n\u001b[0m",
            "\u001b[0;31mTypeError\u001b[0m: 'tuple' object does not support item assignment"
          ]
        }
      ]
    },
    {
      "cell_type": "markdown",
      "metadata": {
        "id": "TCTkgqD8XIjW"
      },
      "source": [
        "## Dict"
      ]
    },
    {
      "cell_type": "code",
      "metadata": {
        "id": "x6nafJapTWd0"
      },
      "source": [
        "var_dict = {\n",
        "    'string_key': 'string_value',\n",
        "    1: 'oh, integer key?'\n",
        "}"
      ],
      "execution_count": null,
      "outputs": []
    },
    {
      "cell_type": "markdown",
      "metadata": {
        "id": "GN4nIr0XYmQ1"
      },
      "source": [
        "Словарь, очень интересный и полезный тип. Хранит данные по принципу ключ-значение. Ключ должен быть уникальным. Можно обращаться к конкретным элементам по ключу. Поддерживает запись новых элементов по несуществующему ключу."
      ]
    },
    {
      "cell_type": "code",
      "metadata": {
        "colab": {
          "base_uri": "https://localhost:8080/",
          "height": 35
        },
        "id": "X4bEXPhgY-qu",
        "outputId": "e85c9934-5034-4498-9b73-5fc1adeb9be3"
      },
      "source": [
        "var_dict['string_key']"
      ],
      "execution_count": null,
      "outputs": [
        {
          "output_type": "execute_result",
          "data": {
            "application/vnd.google.colaboratory.intrinsic+json": {
              "type": "string"
            },
            "text/plain": [
              "'string_value'"
            ]
          },
          "metadata": {
            "tags": []
          },
          "execution_count": 21
        }
      ]
    },
    {
      "cell_type": "code",
      "metadata": {
        "colab": {
          "base_uri": "https://localhost:8080/"
        },
        "id": "nZsXIhX0ZKPE",
        "outputId": "6fb6d00b-c4c0-4bd0-de06-969e775598a8"
      },
      "source": [
        "var_dict['new_key'] = 'new_value'\n",
        "var_dict"
      ],
      "execution_count": null,
      "outputs": [
        {
          "output_type": "execute_result",
          "data": {
            "text/plain": [
              "{1: 'oh, integer key?', 'new_key': 'new_value', 'string_key': 'string_value'}"
            ]
          },
          "metadata": {
            "tags": []
          },
          "execution_count": 22
        }
      ]
    },
    {
      "cell_type": "markdown",
      "metadata": {
        "id": "3IjO3edHZi2F"
      },
      "source": [
        "### Задание\n",
        "\n",
        "Попробуйте создать новый словарь `new_dict` с другими парами ключ-значение и воспользуйтесь функцией `var_dict.update(new_dict)` (мы передаем новый словарь как аргумент функции). Посмотрите, что поменялось в обоих словарях."
      ]
    },
    {
      "cell_type": "code",
      "metadata": {
        "colab": {
          "base_uri": "https://localhost:8080/"
        },
        "id": "vdsT1U4MZ8Pl",
        "outputId": "3e47eddc-a9e9-4bfc-d795-626dec490a59"
      },
      "source": [
        "new_dict = {\n",
        "    'a':'aa',\n",
        "    'b':'bb'\n",
        "}\n",
        "var_dict.update(new_dict)\n",
        "print(var_dict)\n",
        "print(new_dict)"
      ],
      "execution_count": null,
      "outputs": [
        {
          "output_type": "stream",
          "text": [
            "{'string_key': 'string_value', 1: 'oh, integer key?', 'new_key': 'new_value', 'a': 'aa', 'b': 'bb'}\n",
            "{'a': 'aa', 'b': 'bb'}\n"
          ],
          "name": "stdout"
        }
      ]
    },
    {
      "cell_type": "markdown",
      "metadata": {
        "id": "tXdPUt8TXJ1N"
      },
      "source": [
        "## Set"
      ]
    },
    {
      "cell_type": "code",
      "metadata": {
        "id": "NPtQmNtSTXOk"
      },
      "source": [
        "var_set = {\n",
        "    'no, keys',\n",
        "    'only unique values!'\n",
        "}"
      ],
      "execution_count": null,
      "outputs": []
    },
    {
      "cell_type": "markdown",
      "metadata": {
        "id": "sRtAVj9kZ_6r"
      },
      "source": [
        "Множество, очень похож по определению на словарь скобками, но он уникален тем, что хранит только уникальные значения."
      ]
    },
    {
      "cell_type": "markdown",
      "metadata": {
        "id": "mWiGshiaaTc8"
      },
      "source": [
        "### Задание\n",
        "\n",
        "Создайте свое множество `new_set` и с помощью операторов \"|\" и \"&\" получите объединение и пересечение множеств. Выведите результаты."
      ]
    },
    {
      "cell_type": "code",
      "metadata": {
        "colab": {
          "base_uri": "https://localhost:8080/"
        },
        "id": "hfhRlEi5ajhE",
        "outputId": "7c9a920b-9a75-4607-867c-8d6c749025b8"
      },
      "source": [
        "new_set = {\n",
        "    'a',\n",
        "    'b'\n",
        "}\n",
        "print(var_set | new_set)\n",
        "print(var_set & new_set)"
      ],
      "execution_count": null,
      "outputs": [
        {
          "output_type": "stream",
          "text": [
            "{'b', 'no, keys', 'only unique values!', 'a'}\n",
            "set()\n"
          ],
          "name": "stdout"
        }
      ]
    },
    {
      "cell_type": "markdown",
      "metadata": {
        "id": "OF2Gn5YAak_d"
      },
      "source": [
        "## Заключение"
      ]
    },
    {
      "cell_type": "markdown",
      "metadata": {
        "id": "qFyOIyUfapJW"
      },
      "source": [
        "Замечательно! Мы познакомились с основными типами данных, давайте подведем главный итог - для определения переменной достаточно написать название переменной и присвоить ей значение. Тип переменной конкретно не указывается, так как Python - **динамически типизируемый язык** и определяет тип в ходе работы. Именно эта особенность позволяет, например, спискам хранить разные типы данных. \n",
        "\n",
        "> Большая просьба к будущим разработчика, не называйте свои переменные (и функции) менее, чем в три символа. Ваш код - это рассказ того, что программа делает, поэтому переменные (и функции) - слова, которыми вы говорите. Называйте переменные в соответсвии с их назначением, ёмко и лаконично."
      ]
    },
    {
      "cell_type": "markdown",
      "metadata": {
        "id": "Z23ssWtAboFC"
      },
      "source": [
        "# Циклы"
      ]
    },
    {
      "cell_type": "markdown",
      "metadata": {
        "id": "RESCcfwXb0Kd"
      },
      "source": [
        "С переменными освоились, но только на них логику не построить - нужно уметь создавать управляющую логику и **циклы** - один из важных интсрументов в языках. Начнем с простого `while`. Как и во многих языках он проверяет условное значение на каждой итерации."
      ]
    },
    {
      "cell_type": "code",
      "metadata": {
        "colab": {
          "base_uri": "https://localhost:8080/"
        },
        "id": "hZATQDonZVaV",
        "outputId": "da30c1ad-c256-4a9d-b441-1564b71a8420"
      },
      "source": [
        "iter = 0\n",
        "while iter < 10:\n",
        "    print(iter)\n",
        "    # Python не имеет операций инкремента/декремента (++/--)\n",
        "    iter += 1"
      ],
      "execution_count": null,
      "outputs": [
        {
          "output_type": "stream",
          "text": [
            "0\n",
            "1\n",
            "2\n",
            "3\n",
            "4\n",
            "5\n",
            "6\n",
            "7\n",
            "8\n",
            "9\n"
          ],
          "name": "stdout"
        }
      ]
    },
    {
      "cell_type": "markdown",
      "metadata": {
        "id": "Y_8of8XGdnQr"
      },
      "source": [
        "Вот и получился простой цикл от 0 до 9. Но такую конструкцию вы вряд ли встретите, так как для генерации последовательности чисел есть очень полезная функция `range()`. Сделаем тоже самое, но в цикле `for` и с помощью нового ключевого слова `in`."
      ]
    },
    {
      "cell_type": "code",
      "metadata": {
        "colab": {
          "base_uri": "https://localhost:8080/"
        },
        "id": "0FGI7UWadhMT",
        "outputId": "1e74015c-4a34-4485-e5a5-d34877878189"
      },
      "source": [
        "for iter in range(10):\n",
        "    print(iter)"
      ],
      "execution_count": null,
      "outputs": [
        {
          "output_type": "stream",
          "text": [
            "0\n",
            "1\n",
            "2\n",
            "3\n",
            "4\n",
            "5\n",
            "6\n",
            "7\n",
            "8\n",
            "9\n"
          ],
          "name": "stdout"
        }
      ]
    },
    {
      "cell_type": "markdown",
      "metadata": {
        "id": "dw0nt51Nee7R"
      },
      "source": [
        "Немного слов о том, что здесь творится. Ключевое слово `in` в конструкции цикла `for` выполняет функцию получения значений одного за другим из списка справа. На самом деле, функция `range()` создает объект подобный списку, по которому цикл проходит и в каждой итерации размещает значение в переменную `iter`, которую мы и выводим."
      ]
    },
    {
      "cell_type": "markdown",
      "metadata": {
        "id": "NaMYoLkBe47b"
      },
      "source": [
        "## Задание\n",
        "\n",
        "Закрепим, создайте свой список и выполните проход по нему с помощью цикла `for`."
      ]
    },
    {
      "cell_type": "code",
      "metadata": {
        "colab": {
          "base_uri": "https://localhost:8080/"
        },
        "id": "_qqbULlVeI92",
        "outputId": "15c39422-2ea2-4c28-cac5-17aea9713799"
      },
      "source": [
        "new_list = [1,11,111,111]\n",
        "for i in new_list:\n",
        "  print(i)"
      ],
      "execution_count": null,
      "outputs": [
        {
          "output_type": "stream",
          "text": [
            "1\n",
            "11\n",
            "111\n",
            "111\n"
          ],
          "name": "stdout"
        }
      ]
    },
    {
      "cell_type": "markdown",
      "metadata": {
        "id": "vL4OjGWpfLRj"
      },
      "source": [
        "Также, в Python присутствуют ключевые слова `break` и `continue`. Первое слово прерывает цикл, второе - переходит к следующей итерации."
      ]
    },
    {
      "cell_type": "markdown",
      "metadata": {
        "id": "izqk9TF-fgWy"
      },
      "source": [
        "# Функции"
      ]
    },
    {
      "cell_type": "markdown",
      "metadata": {
        "id": "yp2KA4r9fwiQ"
      },
      "source": [
        "После того, как мы научились строить зацикленные конструкции, проходить по спискам, нужно научиться объединять код в функции, что делает его более структурированным и понятным, а также исключает огромное количество ошибок. Для начала определим простую функцию, которая выполняет суммирование."
      ]
    },
    {
      "cell_type": "code",
      "metadata": {
        "id": "6mLZC3UxfK1C"
      },
      "source": [
        "def summation(a, b):\n",
        "    return a + b"
      ],
      "execution_count": null,
      "outputs": []
    },
    {
      "cell_type": "markdown",
      "metadata": {
        "id": "UIWT2KgRgJal"
      },
      "source": [
        "- `def` - ключевое слово определения функции;\n",
        "- `summation` - название функции;\n",
        "- `a, b` - два аргумента функции;\n",
        "- `return` - ключевое слово возврата результата функции; если не определено - функция вернет None;\n",
        "\n",
        "Хорошо, функцию определили, пора бы ее использовать."
      ]
    },
    {
      "cell_type": "code",
      "metadata": {
        "id": "bPH90n6igfbg"
      },
      "source": [
        "result = summation(1, 4)"
      ],
      "execution_count": null,
      "outputs": []
    },
    {
      "cell_type": "code",
      "metadata": {
        "colab": {
          "base_uri": "https://localhost:8080/"
        },
        "id": "k_5TxLEOJ-Ds",
        "outputId": "2446f2b8-862c-40bb-837a-28e33cb662ae"
      },
      "source": [
        "result"
      ],
      "execution_count": null,
      "outputs": [
        {
          "output_type": "execute_result",
          "data": {
            "text/plain": [
              "5"
            ]
          },
          "metadata": {
            "tags": []
          },
          "execution_count": 32
        }
      ]
    },
    {
      "cell_type": "markdown",
      "metadata": {
        "id": "LUEMHb0QgqFr"
      },
      "source": [
        "Отлично, мы видим в выводе, что результат соответствует ожиданиям.\n",
        "\n",
        "> Не забывайте, что много кода присутствует в стандартной библиотеке Python и устанавливаемых модулях. Например, гляньте здесь: https://docs.python.org/3/library/functions.html. Также, гугл всегда поможет!"
      ]
    },
    {
      "cell_type": "markdown",
      "metadata": {
        "id": "w0rvY_XicwbT"
      },
      "source": [
        "## Задание\n",
        "\n",
        "Напишите функцию для вычисления периметра прямоугольника. В качестве аргументов передайте стороны прямоугольника."
      ]
    },
    {
      "cell_type": "code",
      "metadata": {
        "id": "4DE6yOUsdUcR"
      },
      "source": [
        "def perimeter(a,b):\n",
        "  return 2*(a+b)"
      ],
      "execution_count": null,
      "outputs": []
    },
    {
      "cell_type": "markdown",
      "metadata": {
        "id": "rktsjak0Bnyc"
      },
      "source": [
        "# Классы и объекты"
      ]
    },
    {
      "cell_type": "markdown",
      "metadata": {
        "id": "EpqTR9tRBsQD"
      },
      "source": [
        "Для дальнейшей работы мы пройдемся по основным понятиям, связанным с классами. **Крайне рекомендуется ознакомиться с концепцией ООП в специализированной литературе**, а в данной секции мы просто конкретизируем терминологию, чтобы далее ее использовать.\n",
        "\n",
        "> Полезные ссылки:\n",
        "> - https://python-scripts.com/object-oriented-programming-in-python\n",
        "\n",
        "Язык Python является интерпретируемым и имеет поддержку ООП. Эти два факта приводят к одному простому правилу: **в языке Python все является объектом**.\n",
        "\n",
        "Что это значит? Да именно то, что даже определение переменной создает объект. По сравнению с, например, языком С++, где создание переменной через `int var = 3;` лишь выделяет кусочек памяти, то в Python `var = 3` создает объект класса. "
      ]
    },
    {
      "cell_type": "markdown",
      "metadata": {
        "id": "iL7gOQb9hFwi"
      },
      "source": [
        "Теперь обратимся к четырем основным терминам, которые относятся к теме:\n",
        "- **класс** - прототип, описание, которое определяет содержание объектов;\n",
        "- **объект** - сущность определенного класса, если класс считать чертежом машины, то объект - сама машина по чертежу;\n",
        "- **атрибуты класса** - переменные, которые содержатся в классе (и соответственно в объектах);\n",
        "- **методы класса** - функции, которые содержатся в классе (и соответственно в объектах).\n",
        "\n",
        "> Данные описания терминов не являются точными и нацелены на упрощение понимания, нежели на точную характеристику.\n",
        "\n",
        "Разберем на примере языка Python и научимся писать свои. Для начала создадим класс `MyClass`, создадим конструктор (метод, который вызывается при создании объекта данного класса - `__init__()`) с аргументом `value`, метод `sample_method()` и определим член класса `member_var` со значением 10. В конструкторе сохраним значение аргумента в `member_var`. Метод будет выводить некоторую информацию и отображать значение члена класса `member_var`.\n"
      ]
    },
    {
      "cell_type": "code",
      "metadata": {
        "id": "kgjXQpXoi_J-"
      },
      "source": [
        "class MyClass:\n",
        "    def __init__(self, value):\n",
        "        self.member_var = value\n",
        "    \n",
        "    def sample_method(self):\n",
        "        print(f'sample_method() called with {self.member_var}')"
      ],
      "execution_count": null,
      "outputs": []
    },
    {
      "cell_type": "markdown",
      "metadata": {
        "id": "mcLT-u9GjBx9"
      },
      "source": [
        "Обратите внимание, во всех методах передается первым аргументом некоторый `self` - это фактически указатель на объект класса. Запись `self.member_var = value` означает \"объекту Я в атрибут класса `member_var` записать значение `value`\". Этот аргумент нужен, чтобы управлять содержанием объекта явно, так как в конструкторе можно создать переменную `member_var` без `self`, но от этого она не станет атрибутом класса - просто локальной переменной внутри конструктора."
      ]
    },
    {
      "cell_type": "markdown",
      "metadata": {
        "id": "6emUcq7akUih"
      },
      "source": [
        "После того, как класс написан, надо создать объект, а лучше парочку, и вызвать методы."
      ]
    },
    {
      "cell_type": "code",
      "metadata": {
        "colab": {
          "base_uri": "https://localhost:8080/"
        },
        "id": "xnjiw2hpkqFw",
        "outputId": "c37e1077-f427-4e81-d7af-9ec801adf364"
      },
      "source": [
        "my_object_1 = MyClass(10)\n",
        "my_object_2 = MyClass(20)\n",
        "\n",
        "my_object_1.sample_method()\n",
        "my_object_2.sample_method()\n",
        "\n",
        "# Обратимся к члену класса member_var конкретного объекта, модифицируем и выведем еще раз\n",
        "my_object_1.member_var = 11\n",
        "print('----- After modification -----')\n",
        "my_object_1.sample_method()"
      ],
      "execution_count": null,
      "outputs": [
        {
          "output_type": "stream",
          "text": [
            "sample_method() called with 10\n",
            "sample_method() called with 20\n",
            "----- After modification -----\n",
            "sample_method() called with 11\n"
          ],
          "name": "stdout"
        }
      ]
    },
    {
      "cell_type": "markdown",
      "metadata": {
        "id": "IogpB_DVk0hW"
      },
      "source": [
        "Мы выяснили, как создать объект класса, передать в конструктор аргументы и получить доступ к членам и методам класса конкретного объекта. Как видим, это несложно и нужно для понимания того, что в следующем коде делаются аналогичные вещи (создается объект класса `list`, и вызывается метод `append()`)."
      ]
    },
    {
      "cell_type": "code",
      "metadata": {
        "colab": {
          "base_uri": "https://localhost:8080/"
        },
        "id": "-hLaQseQlcFf",
        "outputId": "86349a7c-dfcd-4b9a-96a3-ab26f590ca17"
      },
      "source": [
        "sample_list = list([1, 2, 3])\n",
        "# То же самое: sample_list = [1, 2, 3]\n",
        "\n",
        "sample_list.append(10)\n",
        "\n",
        "sample_list"
      ],
      "execution_count": null,
      "outputs": [
        {
          "output_type": "execute_result",
          "data": {
            "text/plain": [
              "[1, 2, 3, 10]"
            ]
          },
          "metadata": {
            "tags": []
          },
          "execution_count": 38
        }
      ]
    },
    {
      "cell_type": "markdown",
      "metadata": {
        "id": "G8vKMdvPl5B0"
      },
      "source": [
        "Замечательно! Вспомнили основные понятия, которые относятся к классам и готовы идти дальше!\n",
        "\n",
        "Для чего это нужно? Большинство модулей строится на основе классов, так как это отличный способ разделить код по частям, чтобы затем из них было проще собирать конечную программу."
      ]
    },
    {
      "cell_type": "markdown",
      "metadata": {
        "id": "tyr2BxI8hJ__"
      },
      "source": [
        "## Задание\n",
        "\n",
        "Напишите класс без конструктора (так можно, у него будет конструктор по-умолчанию) с методом, который на вход принимает число `x` и производит вычисления по формуле: $2*e^{x}$ \n",
        "\n",
        "Для вычисления степени экспоненты воспользуйтесь функцией `exp()` модуля `math` (не забудьте подключить его, устаналивать не требуется). \n",
        "\n",
        "Выведите в цикле значения метода при целочисленных аргументах от 4 до 12 с использованием новой функции.\n",
        "\n",
        "> Для создания диапазона чисел (для цикла) воспользуйтесь справкой функции `range()`"
      ]
    },
    {
      "cell_type": "code",
      "metadata": {
        "colab": {
          "base_uri": "https://localhost:8080/"
        },
        "id": "LXnvKjIQgo8O",
        "outputId": "d3014bb5-2e46-4b89-96d3-53b508562bfd"
      },
      "source": [
        "import math\n",
        "class NewClass:  \n",
        "    def expon(x):\n",
        "        return 2*math.exp(x)\n",
        "for i in range(4,13):\n",
        "    print(NewClass.expon(i))"
      ],
      "execution_count": null,
      "outputs": [
        {
          "output_type": "stream",
          "text": [
            "109.19630006628847\n",
            "296.8263182051532\n",
            "806.8575869854702\n",
            "2193.266316856917\n",
            "5961.915974083457\n",
            "16206.167855150768\n",
            "44052.931589613436\n",
            "119748.28343039563\n",
            "325509.58283800783\n"
          ],
          "name": "stdout"
        }
      ]
    },
    {
      "cell_type": "markdown",
      "metadata": {
        "id": "LSPXTvDOdeAK"
      },
      "source": [
        "# Форматированные строки"
      ]
    },
    {
      "cell_type": "markdown",
      "metadata": {
        "id": "DcEgqT34diH0"
      },
      "source": [
        "> **Форматированные строки** - строки со втроенными значениями данных. Более подробно в примере:"
      ]
    },
    {
      "cell_type": "code",
      "metadata": {
        "id": "UsC4mJvnaru3"
      },
      "source": [
        "name = 'Юзер'\n",
        "age = 30"
      ],
      "execution_count": null,
      "outputs": []
    },
    {
      "cell_type": "markdown",
      "metadata": {
        "id": "EAjDUBG-aylQ"
      },
      "source": [
        "Положим, что мы имеем представленные переменные и хотим вывести строку \"Привет, меня зовут Юзер и мне 30\". Форматирование строки - как раз способ встроить данные в строку.\n",
        "\n",
        "Первый способ похож на форматирование строк в языке С. Для форматирования используется оператор `%`, шаблон строки и кортеж с данными для заполнения шаблона:"
      ]
    },
    {
      "cell_type": "code",
      "metadata": {
        "colab": {
          "base_uri": "https://localhost:8080/"
        },
        "id": "-QD8qJBkbTQ2",
        "outputId": "3a320bd7-be84-4b66-a9d0-a5ac6f161c46"
      },
      "source": [
        "template_string = 'Привет, меня зовут %s и мне %d'\n",
        "formatted_string = template_string % (name, age)\n",
        "print(formatted_string)"
      ],
      "execution_count": null,
      "outputs": [
        {
          "output_type": "stream",
          "text": [
            "Привет, меня зовут Юзер и мне 30\n"
          ],
          "name": "stdout"
        }
      ]
    },
    {
      "cell_type": "code",
      "metadata": {
        "colab": {
          "base_uri": "https://localhost:8080/"
        },
        "id": "z0gSLv6idPec",
        "outputId": "0947a1e9-2a35-4ea9-8176-708db3961f86"
      },
      "source": [
        "# То же самое, только раньше мы сохранили строку в переменную,\n",
        "#   а сейчас сразу в вывод\n",
        "print('Привет, меня зовут %s и мне %d' % (name, age))"
      ],
      "execution_count": null,
      "outputs": [
        {
          "output_type": "stream",
          "text": [
            "Привет, меня зовут Юзер и мне 30\n"
          ],
          "name": "stdout"
        }
      ]
    },
    {
      "cell_type": "markdown",
      "metadata": {
        "id": "gb9ajl4obhpT"
      },
      "source": [
        "То есть, в шаблоне расставляются места с указанием типа заполняемого значения и после через оператор `%` подставляется по порядку данные из кортежа. Так, значение `name` подставляется вместо `%s`, а `age` - вместо %d.\n",
        "\n",
        "Шаблоны формируются на основе следующих типов:\n",
        "- `%s` - строчные типы;\n",
        "- `%d` - целочисленный тип;\n",
        "- `%x` - целочисленный тип (в шестнадцатеричной системе);\n",
        "- `%f` - вещественный тип;\n"
      ]
    },
    {
      "cell_type": "code",
      "metadata": {
        "id": "uqnV03FccTHa",
        "colab": {
          "base_uri": "https://localhost:8080/"
        },
        "outputId": "49ea20b1-bd38-40b3-e1f2-cad085c49f0c"
      },
      "source": [
        "# Для %f можно задать количество цифр после запятой\n",
        "var = 0.33333333\n",
        "print('Сравним %f, %.2f, %.1f' % (var, var, var))"
      ],
      "execution_count": null,
      "outputs": [
        {
          "output_type": "stream",
          "text": [
            "Сравним 0.333333, 0.33, 0.3\n"
          ],
          "name": "stdout"
        }
      ]
    },
    {
      "cell_type": "markdown",
      "metadata": {
        "id": "7r0g1PCmcsD8"
      },
      "source": [
        "Типов и способов представления данных намного больше, но мы не будем на этом останавливаться, так как для конкретной ситуации можно найти требуемое представление в документации или на форумах."
      ]
    },
    {
      "cell_type": "markdown",
      "metadata": {
        "id": "HlMMyGQ0chYZ"
      },
      "source": [
        "Второй способ формирования является более \"питоническим\", так как для форматирования используется метод `str.format()` класса строки:"
      ]
    },
    {
      "cell_type": "code",
      "metadata": {
        "id": "bv_MWtxcdNok",
        "colab": {
          "base_uri": "https://localhost:8080/"
        },
        "outputId": "de552a4b-2c97-4fc2-b9cc-8c89289b2621"
      },
      "source": [
        "print('Привет, меня зовут {} и мне {}'.format(name, age))"
      ],
      "execution_count": null,
      "outputs": [
        {
          "output_type": "stream",
          "text": [
            "Привет, меня зовут Юзер и мне 30\n"
          ],
          "name": "stdout"
        }
      ]
    },
    {
      "cell_type": "markdown",
      "metadata": {
        "id": "-zcxkqeRdlSc"
      },
      "source": [
        "Такой способ требует немного другого шаблона в виде фигурных скобок. Тип задавать не обязательно, расставляются данные по порядку. Для задания формата отображения, например, для вещественных чисел, устанавливается двоиточие и далее пишется дополнительное описание представления:"
      ]
    },
    {
      "cell_type": "code",
      "metadata": {
        "id": "8edDud8xd3TD",
        "colab": {
          "base_uri": "https://localhost:8080/"
        },
        "outputId": "21546bfb-735e-41ad-9f15-a182256acb4b"
      },
      "source": [
        "var = 0.444444444\n",
        "print('Сравним {}, {:.2f}, {:.1f}'.format(var, var, var))"
      ],
      "execution_count": null,
      "outputs": [
        {
          "output_type": "stream",
          "text": [
            "Сравним 0.444444444, 0.44, 0.4\n"
          ],
          "name": "stdout"
        }
      ]
    },
    {
      "cell_type": "markdown",
      "metadata": {
        "id": "TDxfY45DeJqj"
      },
      "source": [
        "Последнии способ является наиболее современны, так как появился в Python3.6 и называется \"f-строки\". В этом способе перемешивается понятия шаблона и данных, так что он бывает удобнее ранее представленных способов:"
      ]
    },
    {
      "cell_type": "code",
      "metadata": {
        "id": "djHTOKfneczr",
        "colab": {
          "base_uri": "https://localhost:8080/"
        },
        "outputId": "ad881bf3-238b-4d95-d399-8574a7a5c898"
      },
      "source": [
        "print(f'Привет, меня зовут {name} и мне {age}')"
      ],
      "execution_count": null,
      "outputs": [
        {
          "output_type": "stream",
          "text": [
            "Привет, меня зовут Юзер и мне 30\n"
          ],
          "name": "stdout"
        }
      ]
    },
    {
      "cell_type": "markdown",
      "metadata": {
        "id": "SeLMy01lehdm"
      },
      "source": [
        "Основные требования: перед строкой ставится символ `f` и в фигурные скобки записываются сами переменные. Для задания формата отображения также ставится двоеточие и задается формат:"
      ]
    },
    {
      "cell_type": "code",
      "metadata": {
        "id": "altpRd4Ge1kG",
        "colab": {
          "base_uri": "https://localhost:8080/"
        },
        "outputId": "f3c342d6-5a28-4e00-f07c-06d399bb7eb6"
      },
      "source": [
        "# Обратите внимание на округление!\n",
        "var = 0.173456\n",
        "print(f'Сравним {var}, {var:.2f}, {var:.1f}')"
      ],
      "execution_count": null,
      "outputs": [
        {
          "output_type": "stream",
          "text": [
            "Сравним 0.173456, 0.17, 0.2\n"
          ],
          "name": "stdout"
        }
      ]
    },
    {
      "cell_type": "markdown",
      "metadata": {
        "id": "x48Zd_CYfBek"
      },
      "source": [
        "## Задание\n",
        "\n",
        "Напишите функцию, которая принимает имя, возраст и среднюю оценку в качестве аргументов и отображает данные тремя способами, рассмотренными ранее, в виде строк.\n",
        "\n",
        "```\n",
        "Добрый день! Мое имя: <name>, возраст: <age>, оценка: <avg_grade>. Приятно познакомиться!\n",
        "```\n",
        "\n",
        "> Средняя оценка должна отображаться не более, чем с двумя символами после запятой."
      ]
    },
    {
      "cell_type": "code",
      "metadata": {
        "id": "aHV4yym-fXYc",
        "colab": {
          "base_uri": "https://localhost:8080/"
        },
        "outputId": "21a8b92d-eb68-4140-874d-9245772b3c82"
      },
      "source": [
        "def show_info(name, age, avg_grade):\n",
        "    pass\n",
        "    print('Привет, меня зовут %s и мне %d, мой средний балл %.2f' % (name, age, avg_grade))\n",
        "    print('Привет, меня зовут {} и мне {}, мой средний балл {:.2f}'.format(name, age, avg_grade))\n",
        "    print(f'Привет, меня зовут {name} и мне {age}, мой средний балл {avg_grade:.2f}')\n",
        "\n",
        "show_info('Вадим',22,4.568)"
      ],
      "execution_count": 1,
      "outputs": [
        {
          "output_type": "stream",
          "text": [
            "Привет, меня зовут Вадим и мне 22, мой средний балл 4.57\n",
            "Привет, меня зовут Вадим и мне 22, мой средний балл 4.57\n",
            "Привет, меня зовут Вадим и мне 22, мой средний балл 4.57\n"
          ],
          "name": "stdout"
        }
      ]
    },
    {
      "cell_type": "markdown",
      "metadata": {
        "id": "6KTSxXmnLDA6"
      },
      "source": [
        "# Больше тренировок!"
      ]
    },
    {
      "cell_type": "markdown",
      "metadata": {
        "id": "RvewWQC4LG5Y"
      },
      "source": [
        "- Задачка на среднее https://www.codewars.com/kata/563e320cee5dddcf77000158/train/python\n",
        "- Починка if условия https://www.codewars.com/kata/57089707fe2d01529f00024a/train/python\n",
        "- Поиск неиспользованного ID https://www.codewars.com/kata/55eea63119278d571d00006a/train/python\n",
        "- Работа со строками https://www.codewars.com/kata/55a70521798b14d4750000a4/train/python\n",
        "- Определение четности https://www.codewars.com/kata/53da3dbb4a5168369a0000fe/train/python\n",
        "- Удаление элементов строк (работа с индексами) https://www.codewars.com/kata/56bc28ad5bdaeb48760009b0/train/python\n",
        "- Регулярные выражения https://www.codewars.com/kata/57eae20f5500ad98e50002c5/train/python\n",
        "- Сложение https://www.codewars.com/kata/55d24f55d7dd296eb9000030/train/python\n",
        "- Подсчет овечек https://www.codewars.com/kata/54edbc7200b811e956000556/train/python\n",
        "- Подсчет гласных букв https://www.codewars.com/kata/54ff3102c1bad923760001f3/train/python\n",
        "- Строки-числа, поиск минимума/максимума https://www.codewars.com/kata/554b4ac871d6813a03000035/train/python\n",
        "- Поиск повторяющихся букв https://www.codewars.com/kata/54ba84be607a92aa900000f1/train/python\n",
        "- Замена символов https://www.codewars.com/kata/554e4a2f232cdd87d9000038/train/python\n",
        "\n",
        "И т.д. на https://www.codewars.com/ "
      ]
    },
    {
      "cell_type": "markdown",
      "metadata": {
        "id": "qxDH6XJ2N5-d"
      },
      "source": [
        "Если хочется поиграть: \n",
        "- https://codecombat.com/\n",
        "- https://www.codingame.com/ide/puzzle/onboarding"
      ]
    },
    {
      "cell_type": "code",
      "metadata": {
        "id": "K-nBmhW2LFhx"
      },
      "source": [
        ""
      ],
      "execution_count": null,
      "outputs": []
    }
  ]
}